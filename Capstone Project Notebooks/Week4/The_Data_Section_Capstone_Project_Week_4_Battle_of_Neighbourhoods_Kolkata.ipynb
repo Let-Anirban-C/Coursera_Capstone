{
 "cells": [
  {
   "cell_type": "markdown",
   "source": [
    "# Data Section\r\n",
    "\r\n",
    "## The Location \r\n",
    "---------------\r\n",
    "Kolkata may be a popular destination for brand spanking new immigrants in West Bengal to reside. Being home to varied religious groups and places of worship. Although immigration has become a hot topic over the past few years with more governments seeking more restrictions on immigrants and refugees, the overall trend of immigration into Kolkata has been on the increase.\r\n",
    "\r\n",
    "## Location Data\r\n",
    "---------------\r\n",
    "The location data of Kolkata postal code and ward-wise is not easily available and we have to use web scraping to get the data in required format by iterating 144 webpages.\r\n",
    "\r\n",
    "## Intertwining Foursquare API\r\n",
    "---------------\r\n",
    "This project would use Four-square API because it’s prime data gathering source as it features a database of many places, especially their places API which provides the power to perform location search, location sharing, and details a few businesses.\r\n",
    "\r\n",
    "## Methodology\r\n",
    "---------------\r\n",
    "### 1. Workflow\r\n",
    "Using credentials of Foursquare API features of nearby places of the neighborhoods would be mined. thanks to HTTP request limitations, the number of places per neighborhood parameter would reasonably be set to 100 and therefore the radius parameter would be set to 500.\r\n",
    "\r\n",
    "### 2. Clustering Approach\r\n",
    "To compare the similarities and dissimilarities of two postal code neighborhoods, we decided to segment them and group them into clusters to find similar neighborhoods in a big city like Kolkata. To be able to perform that, we need to cluster data which is a form of unsupervised machine learning: k-means clustering algorithm.\r\n",
    "\r\n",
    "### 3. Libraries used\r\n",
    "Pandas: For creating and manipulating data frames.\r\n",
    "<br>Folium: Python visualization library would be used to visualize the neighborhoods cluster distribution of using interactive leaflet map.\r\n",
    "<br>Scikit Learn: For importing k-means clustering.\r\n",
    "<br>JSON: Library to handle JSON files.\r\n",
    "<br>XML: To separate data from presentation and XML stores data in plain text format.\r\n",
    "<br>Geocoder: To retrieve Location Data.\r\n",
    "<br>Beautiful Soup and Requests: To scrap and library to handle http requests.\r\n",
    "<br>Matplotlib: Python Plotting Module.\r\n"
   ],
   "metadata": {}
  }
 ],
 "metadata": {
  "orig_nbformat": 4,
  "language_info": {
   "name": "python",
   "version": "3.9.2"
  },
  "kernelspec": {
   "name": "python3",
   "display_name": "Python 3.9.2 64-bit"
  },
  "interpreter": {
   "hash": "7501efe8f357d5f55775d4c82eab30c9db883494b8b04fa84686690b056e581f"
  }
 },
 "nbformat": 4,
 "nbformat_minor": 2
}