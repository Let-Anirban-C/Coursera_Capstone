{
    "cells": [
        {
            "cell_type": "markdown",
            "source": [
                "# The Battle of Neighbourhood | Best possible localities for buying or renting a property in Kolkata\r\n",
                "\r\n",
                "## Introduction/Business Problem Statement\r\n",
                "The purpose of this project is to assist people in exploring better facilities around their neighborhood. it'll help people making smart and efficient decisions on selecting great neighborhoods out of variety of other neighborhoods in Kolkata, West Bengal.\r\n",
                "Lots of people come to Kolkata for employment or educational purposes and needed much research for good housing prices and reputed schools for his or her children. This project is for those people that are trying to find better neighborhoods. For simple accessing to Cafe, School, Supermarket, medical shops, grocery shops, mall, theatre, hospital, like-minded people, etc.\r\n",
                "It will help people to urge the notice of the world and neighborhood before moving to a new and unknown city, state, country, or place for his or her work or to start out a new fresh life.\r\n",
                "\r\n",
                "## Target Audience:\r\n",
                "The major purpose of this project is to suggest a far better neighborhood/place for a new city for the one who is shifting there. \r\n",
                "Social presence in society in terms of like-minded people. \r\n",
                "Connectivity to the airport, bus stand, city centre, markets, and other daily needs things nearby.\r\n",
                "Sorted list of homes in terms of housing prices in an ascending or descending order Sorted list of faculties in terms of location, fees, rating, and reviews"
            ],
            "metadata": {}
        }
    ],
    "metadata": {
        "orig_nbformat": 4,
        "language_info": {
            "name": "python",
            "version": "3.9.2"
        },
        "kernelspec": {
            "name": "python3",
            "display_name": "Python 3.9.2 64-bit"
        },
        "interpreter": {
            "hash": "7501efe8f357d5f55775d4c82eab30c9db883494b8b04fa84686690b056e581f"
        }
    },
    "nbformat": 4,
    "nbformat_minor": 2
}