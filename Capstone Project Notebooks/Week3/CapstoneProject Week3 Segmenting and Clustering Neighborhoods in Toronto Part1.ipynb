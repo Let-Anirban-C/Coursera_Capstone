{
    "cells": [
        {
            "cell_type": "markdown",
            "source": [
                "# Segmenting and Clustering Neighborhoods in Toronto\r\n",
                "Coursera / Applied Data Science Capstone / Peer-Graded Assignment / Week 3\r\n",
                "<br>By Anirban Paul, 22-July-2021"
            ],
            "metadata": {}
        },
        {
            "cell_type": "markdown",
            "source": [
                "## Import libraries"
            ],
            "metadata": {}
        },
        {
            "cell_type": "code",
            "execution_count": 15,
            "source": [
                "import numpy as np # library to handle data in a vectorized manner\r\n",
                "\r\n",
                "import pandas as pd # library for data analsysis\r\n",
                "pd.set_option('display.max_columns', None)\r\n",
                "pd.set_option('display.max_rows', None)\r\n",
                "\r\n",
                "import json # library to handle JSON files\r\n",
                "\r\n",
                "from bs4 import BeautifulSoup\r\n",
                "\r\n",
                "from geopy.geocoders import Nominatim # convert an address into latitude and longitude values\r\n",
                "\r\n",
                "import requests # library to handle requests\r\n",
                "from pandas.io.json import json_normalize # tranform JSON file into a pandas dataframe\r\n",
                "\r\n",
                "# Matplotlib and associated plotting modules\r\n",
                "import matplotlib.cm as cm\r\n",
                "import matplotlib.colors as colors\r\n",
                "\r\n",
                "# import k-means from clustering stage\r\n",
                "from sklearn.cluster import KMeans\r\n",
                "\r\n",
                "import folium # map rendering library\r\n",
                "\r\n",
                "print('Libraries imported.')"
            ],
            "outputs": [
                {
                    "output_type": "stream",
                    "name": "stdout",
                    "text": [
                        "Libraries imported.\n"
                    ]
                }
            ],
            "metadata": {}
        },
        {
            "cell_type": "markdown",
            "source": [
                "## Part 1\r\n",
                "### <br> Scrape a Wikipedia page"
            ],
            "metadata": {}
        },
        {
            "cell_type": "code",
            "execution_count": 16,
            "source": [
                "website_url = requests.get('https://en.wikipedia.org/wiki/List_of_postal_codes_of_Canada:_M').text"
            ],
            "outputs": [],
            "metadata": {}
        },
        {
            "cell_type": "markdown",
            "source": [
                "### Use the BeautifulSoup package or any other way you are comfortable with to transform the data in the table on the Wikipedia page into the above pandas dataframe"
            ],
            "metadata": {}
        },
        {
            "cell_type": "code",
            "execution_count": 17,
            "source": [
                "soup = BeautifulSoup(website_url,'html.parser')\r\n",
                "#print(soup.prettify())"
            ],
            "outputs": [],
            "metadata": {}
        },
        {
            "cell_type": "markdown",
            "source": [
                "### Loading the Data to a Dataframe and Removing boroughs that are 'Not assigned'"
            ],
            "metadata": {}
        },
        {
            "cell_type": "code",
            "execution_count": 18,
            "source": [
                "table_contents=[]\r\n",
                "table=soup.find('table')\r\n",
                "for row in table.findAll('td'):\r\n",
                "    cell = {}\r\n",
                "    if row.span.text=='Not assigned':\r\n",
                "        pass\r\n",
                "    else:\r\n",
                "        cell['PostalCode'] = row.p.text[:3]\r\n",
                "        cell['Borough'] = (row.span.text).split('(')[0]\r\n",
                "        cell['Neighborhood'] = (((((row.span.text).split('(')[1]).strip(')')).replace(' /',',')).replace(')',' ')).strip(' ')\r\n",
                "        table_contents.append(cell)\r\n",
                "\r\n",
                "# print(table_contents)\r\n",
                "df_raw=pd.DataFrame(table_contents)\r\n",
                "df_raw['Borough']=df_raw['Borough'].replace({'Downtown TorontoStn A PO Boxes25 The Esplanade':'Downtown Toronto Stn A','East TorontoBusiness reply mail Processing Centre969 Eastern':'East Toronto Business','EtobicokeNorthwest':'Etobicoke Northwest','East YorkEast Toronto':'East York/East Toronto','MississaugaCanada Post Gateway Processing Centre':'Mississauga'})"
            ],
            "outputs": [],
            "metadata": {}
        },
        {
            "cell_type": "code",
            "execution_count": 19,
            "source": [
                "df_raw.head()"
            ],
            "outputs": [
                {
                    "output_type": "execute_result",
                    "data": {
                        "text/plain": [
                            "  PostalCode           Borough                      Neighborhood\n",
                            "0        M3A        North York                         Parkwoods\n",
                            "1        M4A        North York                  Victoria Village\n",
                            "2        M5A  Downtown Toronto         Regent Park, Harbourfront\n",
                            "3        M6A        North York  Lawrence Manor, Lawrence Heights\n",
                            "4        M7A      Queen's Park     Ontario Provincial Government"
                        ],
                        "text/html": [
                            "<div>\n",
                            "<style scoped>\n",
                            "    .dataframe tbody tr th:only-of-type {\n",
                            "        vertical-align: middle;\n",
                            "    }\n",
                            "\n",
                            "    .dataframe tbody tr th {\n",
                            "        vertical-align: top;\n",
                            "    }\n",
                            "\n",
                            "    .dataframe thead th {\n",
                            "        text-align: right;\n",
                            "    }\n",
                            "</style>\n",
                            "<table border=\"1\" class=\"dataframe\">\n",
                            "  <thead>\n",
                            "    <tr style=\"text-align: right;\">\n",
                            "      <th></th>\n",
                            "      <th>PostalCode</th>\n",
                            "      <th>Borough</th>\n",
                            "      <th>Neighborhood</th>\n",
                            "    </tr>\n",
                            "  </thead>\n",
                            "  <tbody>\n",
                            "    <tr>\n",
                            "      <th>0</th>\n",
                            "      <td>M3A</td>\n",
                            "      <td>North York</td>\n",
                            "      <td>Parkwoods</td>\n",
                            "    </tr>\n",
                            "    <tr>\n",
                            "      <th>1</th>\n",
                            "      <td>M4A</td>\n",
                            "      <td>North York</td>\n",
                            "      <td>Victoria Village</td>\n",
                            "    </tr>\n",
                            "    <tr>\n",
                            "      <th>2</th>\n",
                            "      <td>M5A</td>\n",
                            "      <td>Downtown Toronto</td>\n",
                            "      <td>Regent Park, Harbourfront</td>\n",
                            "    </tr>\n",
                            "    <tr>\n",
                            "      <th>3</th>\n",
                            "      <td>M6A</td>\n",
                            "      <td>North York</td>\n",
                            "      <td>Lawrence Manor, Lawrence Heights</td>\n",
                            "    </tr>\n",
                            "    <tr>\n",
                            "      <th>4</th>\n",
                            "      <td>M7A</td>\n",
                            "      <td>Queen's Park</td>\n",
                            "      <td>Ontario Provincial Government</td>\n",
                            "    </tr>\n",
                            "  </tbody>\n",
                            "</table>\n",
                            "</div>"
                        ]
                    },
                    "metadata": {},
                    "execution_count": 19
                }
            ],
            "metadata": {}
        },
        {
            "cell_type": "markdown",
            "source": [
                "### If a cell has a borough but a Not assigned neighborhood, then the neighborhood will be the same as the borough"
            ],
            "metadata": {}
        },
        {
            "cell_type": "code",
            "execution_count": 20,
            "source": [
                "df_raw.loc[df_raw['Neighborhood'] =='Not assigned' , 'Neighborhood'] = df_raw['Borough']\r\n",
                "df_raw.head(10)"
            ],
            "outputs": [
                {
                    "output_type": "execute_result",
                    "data": {
                        "text/plain": [
                            "  PostalCode           Borough                      Neighborhood\n",
                            "0        M3A        North York                         Parkwoods\n",
                            "1        M4A        North York                  Victoria Village\n",
                            "2        M5A  Downtown Toronto         Regent Park, Harbourfront\n",
                            "3        M6A        North York  Lawrence Manor, Lawrence Heights\n",
                            "4        M7A      Queen's Park     Ontario Provincial Government\n",
                            "5        M9A         Etobicoke                  Islington Avenue\n",
                            "6        M1B       Scarborough                    Malvern, Rouge\n",
                            "7        M3B        North York                   Don Mills North\n",
                            "8        M4B         East York   Parkview Hill, Woodbine Gardens\n",
                            "9        M5B  Downtown Toronto          Garden District, Ryerson"
                        ],
                        "text/html": [
                            "<div>\n",
                            "<style scoped>\n",
                            "    .dataframe tbody tr th:only-of-type {\n",
                            "        vertical-align: middle;\n",
                            "    }\n",
                            "\n",
                            "    .dataframe tbody tr th {\n",
                            "        vertical-align: top;\n",
                            "    }\n",
                            "\n",
                            "    .dataframe thead th {\n",
                            "        text-align: right;\n",
                            "    }\n",
                            "</style>\n",
                            "<table border=\"1\" class=\"dataframe\">\n",
                            "  <thead>\n",
                            "    <tr style=\"text-align: right;\">\n",
                            "      <th></th>\n",
                            "      <th>PostalCode</th>\n",
                            "      <th>Borough</th>\n",
                            "      <th>Neighborhood</th>\n",
                            "    </tr>\n",
                            "  </thead>\n",
                            "  <tbody>\n",
                            "    <tr>\n",
                            "      <th>0</th>\n",
                            "      <td>M3A</td>\n",
                            "      <td>North York</td>\n",
                            "      <td>Parkwoods</td>\n",
                            "    </tr>\n",
                            "    <tr>\n",
                            "      <th>1</th>\n",
                            "      <td>M4A</td>\n",
                            "      <td>North York</td>\n",
                            "      <td>Victoria Village</td>\n",
                            "    </tr>\n",
                            "    <tr>\n",
                            "      <th>2</th>\n",
                            "      <td>M5A</td>\n",
                            "      <td>Downtown Toronto</td>\n",
                            "      <td>Regent Park, Harbourfront</td>\n",
                            "    </tr>\n",
                            "    <tr>\n",
                            "      <th>3</th>\n",
                            "      <td>M6A</td>\n",
                            "      <td>North York</td>\n",
                            "      <td>Lawrence Manor, Lawrence Heights</td>\n",
                            "    </tr>\n",
                            "    <tr>\n",
                            "      <th>4</th>\n",
                            "      <td>M7A</td>\n",
                            "      <td>Queen's Park</td>\n",
                            "      <td>Ontario Provincial Government</td>\n",
                            "    </tr>\n",
                            "    <tr>\n",
                            "      <th>5</th>\n",
                            "      <td>M9A</td>\n",
                            "      <td>Etobicoke</td>\n",
                            "      <td>Islington Avenue</td>\n",
                            "    </tr>\n",
                            "    <tr>\n",
                            "      <th>6</th>\n",
                            "      <td>M1B</td>\n",
                            "      <td>Scarborough</td>\n",
                            "      <td>Malvern, Rouge</td>\n",
                            "    </tr>\n",
                            "    <tr>\n",
                            "      <th>7</th>\n",
                            "      <td>M3B</td>\n",
                            "      <td>North York</td>\n",
                            "      <td>Don Mills North</td>\n",
                            "    </tr>\n",
                            "    <tr>\n",
                            "      <th>8</th>\n",
                            "      <td>M4B</td>\n",
                            "      <td>East York</td>\n",
                            "      <td>Parkview Hill, Woodbine Gardens</td>\n",
                            "    </tr>\n",
                            "    <tr>\n",
                            "      <th>9</th>\n",
                            "      <td>M5B</td>\n",
                            "      <td>Downtown Toronto</td>\n",
                            "      <td>Garden District, Ryerson</td>\n",
                            "    </tr>\n",
                            "  </tbody>\n",
                            "</table>\n",
                            "</div>"
                        ]
                    },
                    "metadata": {},
                    "execution_count": 20
                }
            ],
            "metadata": {}
        },
        {
            "cell_type": "markdown",
            "source": [
                "### Rows will be same postalcode will combined into one row with the neighborhoods separated with a comma"
            ],
            "metadata": {}
        },
        {
            "cell_type": "code",
            "execution_count": 21,
            "source": [
                "result = df_raw.groupby(['PostalCode','Borough'], sort=False).agg( ', '.join)\r\n",
                "df_new=result.reset_index()\r\n",
                "df_new.head(15)"
            ],
            "outputs": [
                {
                    "output_type": "execute_result",
                    "data": {
                        "text/plain": [
                            "   PostalCode           Borough  \\\n",
                            "0         M3A        North York   \n",
                            "1         M4A        North York   \n",
                            "2         M5A  Downtown Toronto   \n",
                            "3         M6A        North York   \n",
                            "4         M7A      Queen's Park   \n",
                            "5         M9A         Etobicoke   \n",
                            "6         M1B       Scarborough   \n",
                            "7         M3B        North York   \n",
                            "8         M4B         East York   \n",
                            "9         M5B  Downtown Toronto   \n",
                            "10        M6B        North York   \n",
                            "11        M9B         Etobicoke   \n",
                            "12        M1C       Scarborough   \n",
                            "13        M3C        North York   \n",
                            "14        M4C         East York   \n",
                            "\n",
                            "                                         Neighborhood  \n",
                            "0                                           Parkwoods  \n",
                            "1                                    Victoria Village  \n",
                            "2                           Regent Park, Harbourfront  \n",
                            "3                    Lawrence Manor, Lawrence Heights  \n",
                            "4                       Ontario Provincial Government  \n",
                            "5                                    Islington Avenue  \n",
                            "6                                      Malvern, Rouge  \n",
                            "7                                     Don Mills North  \n",
                            "8                     Parkview Hill, Woodbine Gardens  \n",
                            "9                            Garden District, Ryerson  \n",
                            "10                                          Glencairn  \n",
                            "11  West Deane Park, Princess Gardens, Martin Grov...  \n",
                            "12             Rouge Hill, Port Union, Highland Creek  \n",
                            "13                                    Don Mills South  \n",
                            "14                                   Woodbine Heights  "
                        ],
                        "text/html": [
                            "<div>\n",
                            "<style scoped>\n",
                            "    .dataframe tbody tr th:only-of-type {\n",
                            "        vertical-align: middle;\n",
                            "    }\n",
                            "\n",
                            "    .dataframe tbody tr th {\n",
                            "        vertical-align: top;\n",
                            "    }\n",
                            "\n",
                            "    .dataframe thead th {\n",
                            "        text-align: right;\n",
                            "    }\n",
                            "</style>\n",
                            "<table border=\"1\" class=\"dataframe\">\n",
                            "  <thead>\n",
                            "    <tr style=\"text-align: right;\">\n",
                            "      <th></th>\n",
                            "      <th>PostalCode</th>\n",
                            "      <th>Borough</th>\n",
                            "      <th>Neighborhood</th>\n",
                            "    </tr>\n",
                            "  </thead>\n",
                            "  <tbody>\n",
                            "    <tr>\n",
                            "      <th>0</th>\n",
                            "      <td>M3A</td>\n",
                            "      <td>North York</td>\n",
                            "      <td>Parkwoods</td>\n",
                            "    </tr>\n",
                            "    <tr>\n",
                            "      <th>1</th>\n",
                            "      <td>M4A</td>\n",
                            "      <td>North York</td>\n",
                            "      <td>Victoria Village</td>\n",
                            "    </tr>\n",
                            "    <tr>\n",
                            "      <th>2</th>\n",
                            "      <td>M5A</td>\n",
                            "      <td>Downtown Toronto</td>\n",
                            "      <td>Regent Park, Harbourfront</td>\n",
                            "    </tr>\n",
                            "    <tr>\n",
                            "      <th>3</th>\n",
                            "      <td>M6A</td>\n",
                            "      <td>North York</td>\n",
                            "      <td>Lawrence Manor, Lawrence Heights</td>\n",
                            "    </tr>\n",
                            "    <tr>\n",
                            "      <th>4</th>\n",
                            "      <td>M7A</td>\n",
                            "      <td>Queen's Park</td>\n",
                            "      <td>Ontario Provincial Government</td>\n",
                            "    </tr>\n",
                            "    <tr>\n",
                            "      <th>5</th>\n",
                            "      <td>M9A</td>\n",
                            "      <td>Etobicoke</td>\n",
                            "      <td>Islington Avenue</td>\n",
                            "    </tr>\n",
                            "    <tr>\n",
                            "      <th>6</th>\n",
                            "      <td>M1B</td>\n",
                            "      <td>Scarborough</td>\n",
                            "      <td>Malvern, Rouge</td>\n",
                            "    </tr>\n",
                            "    <tr>\n",
                            "      <th>7</th>\n",
                            "      <td>M3B</td>\n",
                            "      <td>North York</td>\n",
                            "      <td>Don Mills North</td>\n",
                            "    </tr>\n",
                            "    <tr>\n",
                            "      <th>8</th>\n",
                            "      <td>M4B</td>\n",
                            "      <td>East York</td>\n",
                            "      <td>Parkview Hill, Woodbine Gardens</td>\n",
                            "    </tr>\n",
                            "    <tr>\n",
                            "      <th>9</th>\n",
                            "      <td>M5B</td>\n",
                            "      <td>Downtown Toronto</td>\n",
                            "      <td>Garden District, Ryerson</td>\n",
                            "    </tr>\n",
                            "    <tr>\n",
                            "      <th>10</th>\n",
                            "      <td>M6B</td>\n",
                            "      <td>North York</td>\n",
                            "      <td>Glencairn</td>\n",
                            "    </tr>\n",
                            "    <tr>\n",
                            "      <th>11</th>\n",
                            "      <td>M9B</td>\n",
                            "      <td>Etobicoke</td>\n",
                            "      <td>West Deane Park, Princess Gardens, Martin Grov...</td>\n",
                            "    </tr>\n",
                            "    <tr>\n",
                            "      <th>12</th>\n",
                            "      <td>M1C</td>\n",
                            "      <td>Scarborough</td>\n",
                            "      <td>Rouge Hill, Port Union, Highland Creek</td>\n",
                            "    </tr>\n",
                            "    <tr>\n",
                            "      <th>13</th>\n",
                            "      <td>M3C</td>\n",
                            "      <td>North York</td>\n",
                            "      <td>Don Mills South</td>\n",
                            "    </tr>\n",
                            "    <tr>\n",
                            "      <th>14</th>\n",
                            "      <td>M4C</td>\n",
                            "      <td>East York</td>\n",
                            "      <td>Woodbine Heights</td>\n",
                            "    </tr>\n",
                            "  </tbody>\n",
                            "</table>\n",
                            "</div>"
                        ]
                    },
                    "metadata": {},
                    "execution_count": 21
                }
            ],
            "metadata": {}
        },
        {
            "cell_type": "markdown",
            "source": [
                "### .shape method to print the number of rows of your dataframe"
            ],
            "metadata": {}
        },
        {
            "cell_type": "code",
            "execution_count": 22,
            "source": [
                "df_new.shape"
            ],
            "outputs": [
                {
                    "output_type": "execute_result",
                    "data": {
                        "text/plain": [
                            "(103, 3)"
                        ]
                    },
                    "metadata": {},
                    "execution_count": 22
                }
            ],
            "metadata": {}
        }
    ],
    "metadata": {
        "orig_nbformat": 4,
        "language_info": {
            "name": "python",
            "version": "3.9.2",
            "mimetype": "text/x-python",
            "codemirror_mode": {
                "name": "ipython",
                "version": 3
            },
            "pygments_lexer": "ipython3",
            "nbconvert_exporter": "python",
            "file_extension": ".py"
        },
        "kernelspec": {
            "name": "python3",
            "display_name": "Python 3.9.2 64-bit"
        },
        "interpreter": {
            "hash": "7501efe8f357d5f55775d4c82eab30c9db883494b8b04fa84686690b056e581f"
        }
    },
    "nbformat": 4,
    "nbformat_minor": 2
}