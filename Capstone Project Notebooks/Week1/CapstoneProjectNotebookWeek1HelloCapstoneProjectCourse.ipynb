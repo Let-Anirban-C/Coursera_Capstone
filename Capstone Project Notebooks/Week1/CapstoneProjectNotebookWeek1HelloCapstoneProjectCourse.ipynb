{
    "cells": [
        {
            "cell_type": "markdown",
            "source": [
                "## First notebook of Applied Data Science Capstone Course: Capstone Project Notebook of Week 1"
            ],
            "metadata": {}
        },
        {
            "cell_type": "code",
            "execution_count": 1,
            "source": [
                "import pandas as pd\r\n",
                "import numpy as np"
            ],
            "outputs": [],
            "metadata": {}
        },
        {
            "cell_type": "code",
            "execution_count": 2,
            "source": [
                "print(\"Hello Capstone Project Course!\")"
            ],
            "outputs": [
                {
                    "output_type": "stream",
                    "name": "stdout",
                    "text": [
                        "Hello Capstone Project Course!\n"
                    ]
                }
            ],
            "metadata": {}
        },
        {
            "cell_type": "code",
            "execution_count": null,
            "source": [],
            "outputs": [],
            "metadata": {}
        }
    ],
    "metadata": {
        "orig_nbformat": 4,
        "language_info": {
            "name": "python"
        }
    },
    "nbformat": 4,
    "nbformat_minor": 2
}